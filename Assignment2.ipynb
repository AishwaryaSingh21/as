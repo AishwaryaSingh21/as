{
 "cells": [
  {
   "cell_type": "code",
   "execution_count": null,
   "metadata": {},
   "outputs": [],
   "source": [
    "#Task1"
   ]
  },
  {
   "cell_type": "code",
   "execution_count": 1,
   "metadata": {},
   "outputs": [],
   "source": [
    "#1.1\n",
    "def myreduce(func, l):\n",
    "    a = l[0] \n",
    "    for i in l[1:]:\n",
    "        a= func(a, i)\n",
    "    return a\n",
    "\n"
   ]
  },
  {
   "cell_type": "code",
   "execution_count": 3,
   "metadata": {},
   "outputs": [],
   "source": [
    "#1.2\n",
    "def myfilter(func, l):\n",
    "    a = []\n",
    "    for i in l:\n",
    "        if func(i):\n",
    "            a.append(i)\n",
    "    return a"
   ]
  },
  {
   "cell_type": "code",
   "execution_count": 24,
   "metadata": {},
   "outputs": [
    {
     "name": "stdout",
     "output_type": "stream",
     "text": [
      "['A', 'C', 'A', 'D', 'G', 'I', 'L', 'D']\n",
      "['x', 'xx', 'xxx', 'xxxx', 'y', 'yy', 'yyy', 'yyyy', 'z', 'zz', 'zzz', 'zzzz']\n",
      "['x', 'y', 'z', 'xx', 'yy', 'zz', 'xxx', 'yyy', 'zzz', 'xxxx', 'yyyy', 'zzzz']\n",
      "[[2], [3], [4], [3], [4], [5], [4], [5], [6]]\n",
      "[[2, 3, 4, 5], [3, 4, 5, 6], [4, 5, 6, 7], [5, 6, 7, 8]]\n",
      "[(1, 1), (2, 1), (3, 1), (1, 2), (2, 2), (3, 2), (1, 3), (2, 3), (3, 3)]\n"
     ]
    }
   ],
   "source": [
    "#2\n",
    "word = \"ACADGILD\"\n",
    "l = [ alphabet for alphabet in word ]\n",
    "print (str(l))\n",
    "\n",
    "l= ['x','y','z']\n",
    "fl= [ item*n for item in l for n in range(1,5)  ]\n",
    "print( str(fl))\n",
    "\n",
    "l= ['x','y','z']\n",
    "fl = [ i*n for n in range(1,5) for i in l  ]\n",
    "print( str(fl))\n",
    "\n",
    "l= [2,3,4]\n",
    "fl = [ [i+n] for i in l for n in range(0,3)]\n",
    "print(str(fl))\n",
    "\n",
    "l= [2,3,4,5]\n",
    "fl= [ [i+n for i in l] for n in range(0,4)  ]\n",
    "print(str(fl))\n",
    "\n",
    "l=[1,2,3]\n",
    "fl= [ (a,b) for b in l for a in l]\n",
    "print( str(fl))"
   ]
  },
  {
   "cell_type": "code",
   "execution_count": 6,
   "metadata": {},
   "outputs": [
    {
     "name": "stdout",
     "output_type": "stream",
     "text": [
      "akarsh\n"
     ]
    }
   ],
   "source": [
    "#3\n",
    "def longestWord(words):\n",
    "    return max(words, key=len)\n",
    "\n",
    "print(longestWord([\"akarsh\",\"aishu\",\"kittu\"]))\n"
   ]
  },
  {
   "cell_type": "code",
   "execution_count": 7,
   "metadata": {},
   "outputs": [],
   "source": [
    "#Task2"
   ]
  },
  {
   "cell_type": "code",
   "execution_count": 15,
   "metadata": {},
   "outputs": [
    {
     "name": "stdout",
     "output_type": "stream",
     "text": [
      "3\n",
      "4\n",
      "5\n",
      "6.0\n"
     ]
    }
   ],
   "source": [
    "#1.1\n",
    "import math\n",
    "class Input:\n",
    "    def __init__(self):\n",
    "        self.a = 0\n",
    "        self.b = 0\n",
    "        self.c = 0\n",
    "        self.s = 0\n",
    "    \n",
    "    def inp(self):\n",
    "        self.a = int(input())\n",
    "        self.b = int(input())\n",
    "        self.c = int(input())\n",
    "        self.s = (self.a+self.b+self.c)/2\n",
    "\n",
    "class Triangle(Input):\n",
    "        \n",
    "    def area(self):\n",
    "        self.inp() #Taking Input\n",
    "        return math.sqrt(self.s*(self.s-self.a)*(self.s-self.b)*(self.s-self.c))\n",
    "    \n",
    "triangle = Triangle()\n",
    "print(triangle.area())\n"
   ]
  },
  {
   "cell_type": "code",
   "execution_count": 19,
   "metadata": {},
   "outputs": [
    {
     "data": {
      "text/plain": [
       "['akarsh', 'kittu', 'soozi', 'sakhi']"
      ]
     },
     "execution_count": 19,
     "metadata": {},
     "output_type": "execute_result"
    }
   ],
   "source": [
    "#1.2\n",
    "def longWords(words, n):\n",
    "    return list(filter(lambda x: (len(x) )>n , words))\n",
    "longWords([\"akarsh\",\"kittu\",\"soozi\",\"sakhi\"],2)\n",
    "\n"
   ]
  },
  {
   "cell_type": "code",
   "execution_count": 20,
   "metadata": {},
   "outputs": [
    {
     "name": "stdout",
     "output_type": "stream",
     "text": [
      "[6, 5, 5, 5]\n"
     ]
    }
   ],
   "source": [
    "#2.1\n",
    "def mapping(words):\n",
    "    return list(map(lambda x: len(x), words))\n",
    "\n",
    "print(mapping([\"akarsh\",\"kittu\",\"soozi\",\"sakhi\"]))\n"
   ]
  },
  {
   "cell_type": "code",
   "execution_count": 22,
   "metadata": {},
   "outputs": [
    {
     "data": {
      "text/plain": [
       "False"
      ]
     },
     "execution_count": 22,
     "metadata": {},
     "output_type": "execute_result"
    }
   ],
   "source": [
    "#2.2\n",
    "def checkVowel(char):\n",
    "    if len(char)==1 and char in ['a','e','i','o', 'u']:\n",
    "        return True\n",
    "    else:\n",
    "        return False\n",
    "checkVowel(\"a\")\n",
    "checkVowel(\"f\")\n"
   ]
  },
  {
   "cell_type": "code",
   "execution_count": null,
   "metadata": {},
   "outputs": [],
   "source": []
  }
 ],
 "metadata": {
  "kernelspec": {
   "display_name": "Python 3",
   "language": "python",
   "name": "python3"
  },
  "language_info": {
   "codemirror_mode": {
    "name": "ipython",
    "version": 3
   },
   "file_extension": ".py",
   "mimetype": "text/x-python",
   "name": "python",
   "nbconvert_exporter": "python",
   "pygments_lexer": "ipython3",
   "version": "3.6.9"
  }
 },
 "nbformat": 4,
 "nbformat_minor": 2
}
